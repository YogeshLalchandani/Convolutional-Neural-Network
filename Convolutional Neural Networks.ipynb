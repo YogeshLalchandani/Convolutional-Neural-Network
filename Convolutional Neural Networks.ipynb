{
 "cells": [
  {
   "cell_type": "code",
   "execution_count": 1,
   "id": "aa955d70",
   "metadata": {},
   "outputs": [],
   "source": [
    "import numpy as np\n",
    "import pandas as pd\n",
    "%matplotlib inline\n",
    "import matplotlib as mpl\n",
    "import matplotlib.pyplot as plt"
   ]
  },
  {
   "cell_type": "code",
   "execution_count": 2,
   "id": "615b21aa",
   "metadata": {},
   "outputs": [],
   "source": [
    "import tensorflow as tf\n",
    "from tensorflow import keras"
   ]
  },
  {
   "cell_type": "code",
   "execution_count": 3,
   "id": "be0fa2dc",
   "metadata": {},
   "outputs": [],
   "source": [
    "fashion_mnist =keras.datasets.fashion_mnist\n",
    "(X_train_full,y_train_full),(X_test,y_test)=fashion_mnist.load_data()"
   ]
  },
  {
   "cell_type": "code",
   "execution_count": 4,
   "id": "d4032eca",
   "metadata": {},
   "outputs": [],
   "source": [
    "class_names =[\"T-shirt/top\",\"Trouser\",\"Pullover\",\"Dress\",\"Coat\",\"Sandal\",\"Shirt\",\"Sneaker\",\"Bag\",\"Ankle boot\"]"
   ]
  },
  {
   "cell_type": "markdown",
   "id": "473c5d4c",
   "metadata": {},
   "source": [
    "### reshaping the data \n",
    "4d array as input for CNN (height,width,channel)"
   ]
  },
  {
   "cell_type": "code",
   "execution_count": 5,
   "id": "8fd43885",
   "metadata": {},
   "outputs": [],
   "source": [
    "X_train_full=X_train_full.reshape((60000,28,28,1))\n",
    "X_test=X_test.reshape((10000,28,28,1))"
   ]
  },
  {
   "cell_type": "markdown",
   "id": "774132d3",
   "metadata": {},
   "source": [
    "### Data normalization"
   ]
  },
  {
   "cell_type": "code",
   "execution_count": 6,
   "id": "190b1073",
   "metadata": {},
   "outputs": [],
   "source": [
    "X_train_n=X_train_full/255\n",
    "X_test_n=X_test/255"
   ]
  },
  {
   "cell_type": "markdown",
   "id": "50b3467b",
   "metadata": {},
   "source": [
    "### splitting data into train/validation/test datasets "
   ]
  },
  {
   "cell_type": "code",
   "execution_count": 7,
   "id": "33856843",
   "metadata": {},
   "outputs": [],
   "source": [
    "X_valid,X_train=X_train_n[:5000],X_train_n[5000:]\n",
    "y_valid,y_train=y_train_full[:5000],y_train_full[5000:]\n",
    "X_test =X_test_n"
   ]
  },
  {
   "cell_type": "code",
   "execution_count": 8,
   "id": "76f8e544",
   "metadata": {},
   "outputs": [],
   "source": [
    "np.random.seed(42)\n",
    "tf.random.set_seed(42)"
   ]
  },
  {
   "cell_type": "code",
   "execution_count": 9,
   "id": "84c5ba2c",
   "metadata": {},
   "outputs": [],
   "source": [
    "model = keras.models.Sequential()\n",
    "model.add(keras.layers.Conv2D(filters=32,kernel_size=(3,3),strides=1,padding=\"valid\",activation=\"relu\",input_shape=(28,28,1)))\n",
    "model.add(keras.layers.MaxPooling2D(pool_size=(2,2)))\n",
    "\n",
    "model.add(keras.layers.Flatten())\n",
    "model.add(keras.layers.Dense(300, activation='relu'))  \n",
    "model.add(keras.layers.Dense(100, activation='relu'))\n",
    "model.add(keras.layers.Dense(10, activation='softmax'))      "
   ]
  },
  {
   "cell_type": "code",
   "execution_count": 10,
   "id": "1c4321fc",
   "metadata": {},
   "outputs": [
    {
     "name": "stdout",
     "output_type": "stream",
     "text": [
      "Model: \"sequential\"\n",
      "_________________________________________________________________\n",
      "Layer (type)                 Output Shape              Param #   \n",
      "=================================================================\n",
      "conv2d (Conv2D)              (None, 26, 26, 32)        320       \n",
      "_________________________________________________________________\n",
      "max_pooling2d (MaxPooling2D) (None, 13, 13, 32)        0         \n",
      "_________________________________________________________________\n",
      "flatten (Flatten)            (None, 5408)              0         \n",
      "_________________________________________________________________\n",
      "dense (Dense)                (None, 300)               1622700   \n",
      "_________________________________________________________________\n",
      "dense_1 (Dense)              (None, 100)               30100     \n",
      "_________________________________________________________________\n",
      "dense_2 (Dense)              (None, 10)                1010      \n",
      "=================================================================\n",
      "Total params: 1,654,130\n",
      "Trainable params: 1,654,130\n",
      "Non-trainable params: 0\n",
      "_________________________________________________________________\n"
     ]
    }
   ],
   "source": [
    "model.summary()"
   ]
  },
  {
   "cell_type": "code",
   "execution_count": 11,
   "id": "ae2ac8e4",
   "metadata": {},
   "outputs": [],
   "source": [
    "model.compile(loss=\"sparse_categorical_crossentropy\",\n",
    "              optimizer=\"sgd\",\n",
    "              metrics=[\"accuracy\"])"
   ]
  },
  {
   "cell_type": "code",
   "execution_count": 12,
   "id": "64a57d07",
   "metadata": {},
   "outputs": [
    {
     "name": "stdout",
     "output_type": "stream",
     "text": [
      "Epoch 1/30\n",
      "860/860 [==============================] - 37s 44ms/step - loss: 0.8776 - accuracy: 0.6987 - val_loss: 0.7478 - val_accuracy: 0.7382\n",
      "Epoch 2/30\n",
      "860/860 [==============================] - 37s 43ms/step - loss: 0.5388 - accuracy: 0.8051 - val_loss: 0.4977 - val_accuracy: 0.8146\n",
      "Epoch 3/30\n",
      "860/860 [==============================] - 39s 45ms/step - loss: 0.4812 - accuracy: 0.8263 - val_loss: 0.9226 - val_accuracy: 0.7102\n",
      "Epoch 4/30\n",
      "860/860 [==============================] - 38s 44ms/step - loss: 0.4440 - accuracy: 0.8414 - val_loss: 0.4138 - val_accuracy: 0.8564\n",
      "Epoch 5/30\n",
      "860/860 [==============================] - 37s 44ms/step - loss: 0.4198 - accuracy: 0.8499 - val_loss: 0.4423 - val_accuracy: 0.8450\n",
      "Epoch 6/30\n",
      "860/860 [==============================] - 38s 44ms/step - loss: 0.3957 - accuracy: 0.8582 - val_loss: 0.3762 - val_accuracy: 0.8716\n",
      "Epoch 7/30\n",
      "860/860 [==============================] - 38s 45ms/step - loss: 0.3782 - accuracy: 0.8659 - val_loss: 0.4055 - val_accuracy: 0.8564\n",
      "Epoch 8/30\n",
      "860/860 [==============================] - 38s 44ms/step - loss: 0.3630 - accuracy: 0.8702 - val_loss: 0.5315 - val_accuracy: 0.8040\n",
      "Epoch 9/30\n",
      "860/860 [==============================] - 39s 45ms/step - loss: 0.3491 - accuracy: 0.8740 - val_loss: 0.3706 - val_accuracy: 0.8672\n",
      "Epoch 10/30\n",
      "860/860 [==============================] - 38s 45ms/step - loss: 0.3370 - accuracy: 0.8787 - val_loss: 0.3833 - val_accuracy: 0.8582\n",
      "Epoch 11/30\n",
      "860/860 [==============================] - 39s 45ms/step - loss: 0.3246 - accuracy: 0.8816 - val_loss: 0.3433 - val_accuracy: 0.8770\n",
      "Epoch 12/30\n",
      "860/860 [==============================] - 38s 44ms/step - loss: 0.3134 - accuracy: 0.8868 - val_loss: 0.3225 - val_accuracy: 0.8886\n",
      "Epoch 13/30\n",
      "860/860 [==============================] - 38s 45ms/step - loss: 0.3063 - accuracy: 0.8894 - val_loss: 0.3310 - val_accuracy: 0.8864\n",
      "Epoch 14/30\n",
      "860/860 [==============================] - 38s 45ms/step - loss: 0.2975 - accuracy: 0.8912 - val_loss: 0.3911 - val_accuracy: 0.8556\n",
      "Epoch 15/30\n",
      "860/860 [==============================] - 38s 44ms/step - loss: 0.2896 - accuracy: 0.8946 - val_loss: 0.3790 - val_accuracy: 0.8636\n",
      "Epoch 16/30\n",
      "860/860 [==============================] - 39s 45ms/step - loss: 0.2831 - accuracy: 0.8974 - val_loss: 0.2946 - val_accuracy: 0.8958\n",
      "Epoch 17/30\n",
      "860/860 [==============================] - 38s 45ms/step - loss: 0.2753 - accuracy: 0.9001 - val_loss: 0.4098 - val_accuracy: 0.8612\n",
      "Epoch 18/30\n",
      "860/860 [==============================] - 39s 45ms/step - loss: 0.2699 - accuracy: 0.9012 - val_loss: 0.3496 - val_accuracy: 0.8758\n",
      "Epoch 19/30\n",
      "860/860 [==============================] - 39s 45ms/step - loss: 0.2637 - accuracy: 0.9036 - val_loss: 0.3018 - val_accuracy: 0.8924\n",
      "Epoch 20/30\n",
      "860/860 [==============================] - 38s 44ms/step - loss: 0.2583 - accuracy: 0.9057 - val_loss: 0.3239 - val_accuracy: 0.8844\n",
      "Epoch 21/30\n",
      "860/860 [==============================] - 39s 45ms/step - loss: 0.2526 - accuracy: 0.9083 - val_loss: 0.2833 - val_accuracy: 0.9006\n",
      "Epoch 22/30\n",
      "860/860 [==============================] - 38s 45ms/step - loss: 0.2470 - accuracy: 0.9092 - val_loss: 0.2843 - val_accuracy: 0.8982\n",
      "Epoch 23/30\n",
      "860/860 [==============================] - 39s 45ms/step - loss: 0.2417 - accuracy: 0.9109 - val_loss: 0.2782 - val_accuracy: 0.9016\n",
      "Epoch 24/30\n",
      "860/860 [==============================] - 38s 45ms/step - loss: 0.2370 - accuracy: 0.9132 - val_loss: 0.2975 - val_accuracy: 0.8908\n",
      "Epoch 25/30\n",
      "860/860 [==============================] - 39s 45ms/step - loss: 0.2323 - accuracy: 0.9153 - val_loss: 0.2894 - val_accuracy: 0.8956\n",
      "Epoch 26/30\n",
      "860/860 [==============================] - 39s 45ms/step - loss: 0.2287 - accuracy: 0.9160 - val_loss: 0.2782 - val_accuracy: 0.9038\n",
      "Epoch 27/30\n",
      "860/860 [==============================] - 35s 41ms/step - loss: 0.2246 - accuracy: 0.9185 - val_loss: 0.2749 - val_accuracy: 0.8990\n",
      "Epoch 28/30\n",
      "860/860 [==============================] - 35s 41ms/step - loss: 0.2199 - accuracy: 0.9187 - val_loss: 0.3085 - val_accuracy: 0.8930\n",
      "Epoch 29/30\n",
      "860/860 [==============================] - 35s 41ms/step - loss: 0.2147 - accuracy: 0.9215 - val_loss: 0.2702 - val_accuracy: 0.9032\n",
      "Epoch 30/30\n",
      "860/860 [==============================] - 38s 44ms/step - loss: 0.2117 - accuracy: 0.9219 - val_loss: 0.2716 - val_accuracy: 0.9014\n"
     ]
    }
   ],
   "source": [
    "model_history = model.fit(X_train, y_train, epochs=30,batch_size= 64,\n",
    "                    validation_data=(X_valid, y_valid))"
   ]
  },
  {
   "cell_type": "code",
   "execution_count": 13,
   "id": "03a9b4ed",
   "metadata": {},
   "outputs": [
    {
     "data": {
      "image/png": "[encoded data removed]",
      "text/plain": [
       "<Figure size 576x360 with 1 Axes>"
      ]
     },
     "metadata": {
      "needs_background": "light"
     },
     "output_type": "display_data"
    }
   ],
   "source": [
    "import pandas as pd\n",
    "\n",
    "pd.DataFrame(model_history.history).plot(figsize=(8, 5))\n",
    "plt.grid(True)\n",
    "plt.gca().set_ylim(0, 1)\n",
    "plt.show()"
   ]
  },
  {
   "cell_type": "code",
   "execution_count": 14,
   "id": "c93f35c0",
   "metadata": {},
   "outputs": [
    {
     "name": "stdout",
     "output_type": "stream",
     "text": [
      "313/313 [==============================] - 3s 9ms/step - loss: 0.2812 - accuracy: 0.8984\n"
     ]
    }
   ],
   "source": [
    "ev =model.evaluate(X_test_n,y_test)"
   ]
  },
  {
   "cell_type": "code",
   "execution_count": 17,
   "id": "9acbc9eb",
   "metadata": {},
   "outputs": [],
   "source": [
    "X_new=X_test[:3]"
   ]
  },
  {
   "cell_type": "code",
   "execution_count": 18,
   "id": "cf29273e",
   "metadata": {},
   "outputs": [
    {
     "name": "stdout",
     "output_type": "stream",
     "text": [
      "WARNING:tensorflow:From <ipython-input-18-3306f3af3b8e>:1: Sequential.predict_classes (from tensorflow.python.keras.engine.sequential) is deprecated and will be removed after 2021-01-01.\n",
      "Instructions for updating:\n",
      "Please use instead:* `np.argmax(model.predict(x), axis=-1)`,   if your model does multi-class classification   (e.g. if it uses a `softmax` last-layer activation).* `(model.predict(x) > 0.5).astype(\"int32\")`,   if your model does binary classification   (e.g. if it uses a `sigmoid` last-layer activation).\n"
     ]
    },
    {
     "data": {
      "text/plain": [
       "array([9, 2, 1], dtype=int64)"
      ]
     },
     "execution_count": 18,
     "metadata": {},
     "output_type": "execute_result"
    }
   ],
   "source": [
    "y_pred=model.predict_classes(X_new)\n",
    "y_pred"
   ]
  },
  {
   "cell_type": "code",
   "execution_count": 19,
   "id": "2e9590d1",
   "metadata": {},
   "outputs": [
    {
     "data": {
      "text/plain": [
       "array([9, 2, 1], dtype=uint8)"
      ]
     },
     "execution_count": 19,
     "metadata": {},
     "output_type": "execute_result"
    }
   ],
   "source": [
    "y_test[:3]"
   ]
  },
  {
   "cell_type": "code",
   "execution_count": 20,
   "id": "4a6c64c6",
   "metadata": {},
   "outputs": [
    {
     "name": "stdout",
     "output_type": "stream",
     "text": [
      "AxesImage(54,36;334.8x217.44)\n"
     ]
    },
    {
     "data": {
      "image/png": "[encoded data removed]",
      "text/plain": [
       "<Figure size 432x288 with 1 Axes>"
      ]
     },
     "metadata": {
      "needs_background": "light"
     },
     "output_type": "display_data"
    }
   ],
   "source": [
    "print(plt.imshow(X_test[0].reshape(28,28)))"
   ]
  },
  {
   "cell_type": "code",
   "execution_count": 21,
   "id": "b83d236b",
   "metadata": {},
   "outputs": [],
   "source": [
    "model.save(\"cnn1.h5\")"
   ]
  },
  {
   "cell_type": "code",
   "execution_count": 22,
   "id": "da0c0f1d",
   "metadata": {},
   "outputs": [
    {
     "data": {
      "text/plain": [
       "<function tensorflow.python.keras.backend.clear_session()>"
      ]
     },
     "execution_count": 22,
     "metadata": {},
     "output_type": "execute_result"
    }
   ],
   "source": [
    "keras.backend.clear_session"
   ]
  },
  {
   "cell_type": "code",
   "execution_count": 23,
   "id": "4f5f1955",
   "metadata": {},
   "outputs": [],
   "source": [
    "del model"
   ]
  },
  {
   "cell_type": "markdown",
   "id": "7473eb86",
   "metadata": {},
   "source": [
    "### Pooling vs No Pooling"
   ]
  },
  {
   "cell_type": "code",
   "execution_count": 24,
   "id": "335eff9e",
   "metadata": {},
   "outputs": [],
   "source": [
    "model_a = keras.models.Sequential()\n",
    "model_a.add(keras.layers.Conv2D(filters = 32, kernel_size = (3, 3), strides=1, padding='valid', activation='relu', input_shape=(28, 28, 1)))\n",
    "model_a.add(keras.layers.MaxPooling2D((2, 2)))\n",
    "model_a.add(keras.layers.Flatten())\n",
    "model_a.add(keras.layers.Dense(300, activation=\"relu\"))\n",
    "model_a.add(keras.layers.Dense(100, activation=\"relu\"))\n",
    "model_a.add(keras.layers.Dense(10, activation=\"softmax\"))\n",
    "\n",
    "model_b = keras.models.Sequential()\n",
    "model_b.add(keras.layers.Conv2D(filters = 32, kernel_size = (3, 3), strides=1, padding='valid', activation='relu', input_shape=(28, 28, 1)))\n",
    "model_b.add(keras.layers.Flatten())\n",
    "model_b.add(keras.layers.Dense(300, activation=\"relu\"))\n",
    "model_b.add(keras.layers.Dense(100, activation=\"relu\"))\n",
    "model_b.add(keras.layers.Dense(10, activation=\"softmax\"))\n"
   ]
  },
  {
   "cell_type": "code",
   "execution_count": 25,
   "id": "d9f4660d",
   "metadata": {},
   "outputs": [
    {
     "name": "stdout",
     "output_type": "stream",
     "text": [
      "Model: \"sequential_1\"\n",
      "_________________________________________________________________\n",
      "Layer (type)                 Output Shape              Param #   \n",
      "=================================================================\n",
      "conv2d_1 (Conv2D)            (None, 26, 26, 32)        320       \n",
      "_________________________________________________________________\n",
      "max_pooling2d_1 (MaxPooling2 (None, 13, 13, 32)        0         \n",
      "_________________________________________________________________\n",
      "flatten_1 (Flatten)          (None, 5408)              0         \n",
      "_________________________________________________________________\n",
      "dense_3 (Dense)              (None, 300)               1622700   \n",
      "_________________________________________________________________\n",
      "dense_4 (Dense)              (None, 100)               30100     \n",
      "_________________________________________________________________\n",
      "dense_5 (Dense)              (None, 10)                1010      \n",
      "=================================================================\n",
      "Total params: 1,654,130\n",
      "Trainable params: 1,654,130\n",
      "Non-trainable params: 0\n",
      "_________________________________________________________________\n"
     ]
    }
   ],
   "source": [
    "model_a.summary()"
   ]
  },
  {
   "cell_type": "code",
   "execution_count": 26,
   "id": "9dcfdae7",
   "metadata": {},
   "outputs": [
    {
     "name": "stdout",
     "output_type": "stream",
     "text": [
      "Model: \"sequential_2\"\n",
      "_________________________________________________________________\n",
      "Layer (type)                 Output Shape              Param #   \n",
      "=================================================================\n",
      "conv2d_2 (Conv2D)            (None, 26, 26, 32)        320       \n",
      "_________________________________________________________________\n",
      "flatten_2 (Flatten)          (None, 21632)             0         \n",
      "_________________________________________________________________\n",
      "dense_6 (Dense)              (None, 300)               6489900   \n",
      "_________________________________________________________________\n",
      "dense_7 (Dense)              (None, 100)               30100     \n",
      "_________________________________________________________________\n",
      "dense_8 (Dense)              (None, 10)                1010      \n",
      "=================================================================\n",
      "Total params: 6,521,330\n",
      "Trainable params: 6,521,330\n",
      "Non-trainable params: 0\n",
      "_________________________________________________________________\n"
     ]
    }
   ],
   "source": [
    "model_b.summary()"
   ]
  },
  {
   "cell_type": "code",
   "execution_count": 27,
   "id": "92159fb3",
   "metadata": {},
   "outputs": [],
   "source": [
    "model_a.compile(loss=\"sparse_categorical_crossentropy\",\n",
    "              optimizer=\"sgd\",\n",
    "              metrics=[\"accuracy\"])\n",
    "\n",
    "model_b.compile(loss=\"sparse_categorical_crossentropy\",\n",
    "              optimizer=\"sgd\",\n",
    "              metrics=[\"accuracy\"])"
   ]
  },
  {
   "cell_type": "code",
   "execution_count": 29,
   "id": "986cf509",
   "metadata": {},
   "outputs": [
    {
     "name": "stdout",
     "output_type": "stream",
     "text": [
      "860/860 [==============================] - 37s 43ms/step - loss: 0.5550 - accuracy: 0.7978 - val_loss: 0.6319 - val_accuracy: 0.7716\n"
     ]
    }
   ],
   "source": [
    "model_history_a = model_a.fit(X_train, y_train, epochs=1,batch_size= 64,\n",
    "                    validation_data=(X_valid, y_valid))\n"
   ]
  },
  {
   "cell_type": "code",
   "execution_count": 30,
   "id": "021f9da1",
   "metadata": {},
   "outputs": [
    {
     "name": "stdout",
     "output_type": "stream",
     "text": [
      "860/860 [==============================] - 71s 82ms/step - loss: 0.7401 - accuracy: 0.7452 - val_loss: 0.7079 - val_accuracy: 0.7560\n"
     ]
    }
   ],
   "source": [
    "model_history_b = model_b.fit(X_train, y_train, epochs=1,batch_size= 64,\n",
    "                    validation_data=(X_valid, y_valid))"
   ]
  },
  {
   "cell_type": "code",
   "execution_count": null,
   "id": "3d44be44",
   "metadata": {},
   "outputs": [],
   "source": []
  }
 ],
 "metadata": {
  "kernelspec": {
   "display_name": "Python 3",
   "language": "python",
   "name": "python3"
  },
  "language_info": {
   "codemirror_mode": {
    "name": "ipython",
    "version": 3
   },
   "file_extension": ".py",
   "mimetype": "text/x-python",
   "name": "python",
   "nbconvert_exporter": "python",
   "pygments_lexer": "ipython3",
   "version": "3.8.8"
  }
 },
 "nbformat": 4,
 "nbformat_minor": 5
}
